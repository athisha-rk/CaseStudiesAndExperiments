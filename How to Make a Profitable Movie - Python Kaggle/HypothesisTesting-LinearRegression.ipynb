{
  "nbformat": 4,
  "nbformat_minor": 0,
  "metadata": {
    "colab": {
      "name": "FODS Final Review.ipynb",
      "provenance": [],
      "collapsed_sections": []
    },
    "kernelspec": {
      "name": "python3",
      "display_name": "Python 3"
    }
  },
  "cells": [
    {
      "cell_type": "markdown",
      "metadata": {
        "id": "PQe0Y1JgACDc"
      },
      "source": [
        "# **FODS Final Review: What makes a movie profitable?**"
      ]
    },
    {
      "cell_type": "markdown",
      "metadata": {
        "id": "HqYHFnosAKpU"
      },
      "source": [
        "### **Required Packages**"
      ]
    },
    {
      "cell_type": "code",
      "metadata": {
        "id": "6-36J4W9_66m"
      },
      "source": [
        "import numpy as np\n",
        "import pandas as pd\n",
        "import scipy.stats as st\n",
        "from sklearn.model_selection import train_test_split\n",
        "from sklearn.preprocessing import LabelEncoder, StandardScaler\n",
        "from sklearn.linear_model import LinearRegression\n",
        "from sklearn import metrics"
      ],
      "execution_count": 40,
      "outputs": []
    },
    {
      "cell_type": "markdown",
      "metadata": {
        "id": "UxrnieZxAfxk"
      },
      "source": [
        "### **Read Dataset**"
      ]
    },
    {
      "cell_type": "code",
      "metadata": {
        "id": "ETdDGL0eAe-a",
        "outputId": "40f71696-373c-426f-94c7-dfedb2e5330c",
        "colab": {
          "base_uri": "https://localhost:8080/",
          "height": 355
        }
      },
      "source": [
        "data=pd.read_csv(\"/content/profit_movies.csv\")\n",
        "data.drop('Unnamed: 0',axis=1,inplace=True)\n",
        "data.head(3)"
      ],
      "execution_count": 41,
      "outputs": [
        {
          "output_type": "execute_result",
          "data": {
            "text/html": [
              "<div>\n",
              "<style scoped>\n",
              "    .dataframe tbody tr th:only-of-type {\n",
              "        vertical-align: middle;\n",
              "    }\n",
              "\n",
              "    .dataframe tbody tr th {\n",
              "        vertical-align: top;\n",
              "    }\n",
              "\n",
              "    .dataframe thead th {\n",
              "        text-align: right;\n",
              "    }\n",
              "</style>\n",
              "<table border=\"1\" class=\"dataframe\">\n",
              "  <thead>\n",
              "    <tr style=\"text-align: right;\">\n",
              "      <th></th>\n",
              "      <th>adult</th>\n",
              "      <th>budget</th>\n",
              "      <th>genres</th>\n",
              "      <th>popularity</th>\n",
              "      <th>poster_path</th>\n",
              "      <th>production_countries</th>\n",
              "      <th>release_date</th>\n",
              "      <th>revenue</th>\n",
              "      <th>runtime</th>\n",
              "      <th>spoken_languages</th>\n",
              "      <th>title</th>\n",
              "      <th>video</th>\n",
              "      <th>vote_average</th>\n",
              "      <th>vote_count</th>\n",
              "      <th>profit</th>\n",
              "    </tr>\n",
              "  </thead>\n",
              "  <tbody>\n",
              "    <tr>\n",
              "      <th>0</th>\n",
              "      <td>False</td>\n",
              "      <td>237000000</td>\n",
              "      <td>['Action', 'Adventure', 'Fantasy', 'Science Fi...</td>\n",
              "      <td>185.070892</td>\n",
              "      <td>/kmcqlZGaSh20zpTbuoF0Cdn07dT.jpg</td>\n",
              "      <td>['United States of America', 'United Kingdom']</td>\n",
              "      <td>2009-10-12</td>\n",
              "      <td>2787965087</td>\n",
              "      <td>162.0</td>\n",
              "      <td>['English', 'Español']</td>\n",
              "      <td>Avatar</td>\n",
              "      <td>False</td>\n",
              "      <td>7.2</td>\n",
              "      <td>12114.0</td>\n",
              "      <td>2550965087</td>\n",
              "    </tr>\n",
              "    <tr>\n",
              "      <th>1</th>\n",
              "      <td>False</td>\n",
              "      <td>245000000</td>\n",
              "      <td>['Action', 'Adventure', 'Science Fiction', 'Fa...</td>\n",
              "      <td>31.626013</td>\n",
              "      <td>/weUSwMdQIa3NaXVzwUoIIcAi85d.jpg</td>\n",
              "      <td>['United States of America']</td>\n",
              "      <td>2015-12-15</td>\n",
              "      <td>2068223624</td>\n",
              "      <td>136.0</td>\n",
              "      <td>['English']</td>\n",
              "      <td>Star Wars: The Force Awakens</td>\n",
              "      <td>False</td>\n",
              "      <td>7.5</td>\n",
              "      <td>7993.0</td>\n",
              "      <td>1823223624</td>\n",
              "    </tr>\n",
              "    <tr>\n",
              "      <th>2</th>\n",
              "      <td>False</td>\n",
              "      <td>200000000</td>\n",
              "      <td>['Drama', 'Romance', 'Thriller']</td>\n",
              "      <td>26.889070</td>\n",
              "      <td>/kHXEpyfl6zqn8a6YuozZUujufXf.jpg</td>\n",
              "      <td>['United States of America']</td>\n",
              "      <td>1997-11-18</td>\n",
              "      <td>1845034188</td>\n",
              "      <td>194.0</td>\n",
              "      <td>['English', 'Français', 'Deutsch', 'svenska', ...</td>\n",
              "      <td>Titanic</td>\n",
              "      <td>False</td>\n",
              "      <td>7.5</td>\n",
              "      <td>7770.0</td>\n",
              "      <td>1645034188</td>\n",
              "    </tr>\n",
              "  </tbody>\n",
              "</table>\n",
              "</div>"
            ],
            "text/plain": [
              "   adult     budget  ... vote_count      profit\n",
              "0  False  237000000  ...    12114.0  2550965087\n",
              "1  False  245000000  ...     7993.0  1823223624\n",
              "2  False  200000000  ...     7770.0  1645034188\n",
              "\n",
              "[3 rows x 15 columns]"
            ]
          },
          "metadata": {
            "tags": []
          },
          "execution_count": 41
        }
      ]
    },
    {
      "cell_type": "markdown",
      "metadata": {
        "id": "OxM4UcMZA6uA"
      },
      "source": [
        "### **Dataset Overview**"
      ]
    },
    {
      "cell_type": "code",
      "metadata": {
        "id": "eNsMI15RAphM",
        "outputId": "d2babe6e-accd-4990-9787-eb40426ab223",
        "colab": {
          "base_uri": "https://localhost:8080/",
          "height": 300
        }
      },
      "source": [
        "data.describe()"
      ],
      "execution_count": 42,
      "outputs": [
        {
          "output_type": "execute_result",
          "data": {
            "text/html": [
              "<div>\n",
              "<style scoped>\n",
              "    .dataframe tbody tr th:only-of-type {\n",
              "        vertical-align: middle;\n",
              "    }\n",
              "\n",
              "    .dataframe tbody tr th {\n",
              "        vertical-align: top;\n",
              "    }\n",
              "\n",
              "    .dataframe thead th {\n",
              "        text-align: right;\n",
              "    }\n",
              "</style>\n",
              "<table border=\"1\" class=\"dataframe\">\n",
              "  <thead>\n",
              "    <tr style=\"text-align: right;\">\n",
              "      <th></th>\n",
              "      <th>budget</th>\n",
              "      <th>popularity</th>\n",
              "      <th>revenue</th>\n",
              "      <th>runtime</th>\n",
              "      <th>vote_average</th>\n",
              "      <th>vote_count</th>\n",
              "      <th>profit</th>\n",
              "    </tr>\n",
              "  </thead>\n",
              "  <tbody>\n",
              "    <tr>\n",
              "      <th>count</th>\n",
              "      <td>1.543000e+03</td>\n",
              "      <td>1543.000000</td>\n",
              "      <td>1.543000e+03</td>\n",
              "      <td>1543.000000</td>\n",
              "      <td>1543.000000</td>\n",
              "      <td>1543.000000</td>\n",
              "      <td>1.543000e+03</td>\n",
              "    </tr>\n",
              "    <tr>\n",
              "      <th>mean</th>\n",
              "      <td>5.998527e+07</td>\n",
              "      <td>15.459826</td>\n",
              "      <td>2.559137e+08</td>\n",
              "      <td>113.968244</td>\n",
              "      <td>6.506740</td>\n",
              "      <td>1770.085548</td>\n",
              "      <td>1.959285e+08</td>\n",
              "    </tr>\n",
              "    <tr>\n",
              "      <th>std</th>\n",
              "      <td>5.422163e+07</td>\n",
              "      <td>23.525478</td>\n",
              "      <td>2.364575e+08</td>\n",
              "      <td>21.589158</td>\n",
              "      <td>0.767088</td>\n",
              "      <td>1813.188649</td>\n",
              "      <td>2.018986e+08</td>\n",
              "    </tr>\n",
              "    <tr>\n",
              "      <th>min</th>\n",
              "      <td>1.130000e+02</td>\n",
              "      <td>0.452934</td>\n",
              "      <td>5.152517e+07</td>\n",
              "      <td>69.000000</td>\n",
              "      <td>3.200000</td>\n",
              "      <td>2.000000</td>\n",
              "      <td>5.002009e+07</td>\n",
              "    </tr>\n",
              "    <tr>\n",
              "      <th>25%</th>\n",
              "      <td>2.000000e+07</td>\n",
              "      <td>8.969442</td>\n",
              "      <td>1.129496e+08</td>\n",
              "      <td>98.000000</td>\n",
              "      <td>6.000000</td>\n",
              "      <td>550.500000</td>\n",
              "      <td>7.645018e+07</td>\n",
              "    </tr>\n",
              "    <tr>\n",
              "      <th>50%</th>\n",
              "      <td>4.000000e+07</td>\n",
              "      <td>11.746053</td>\n",
              "      <td>1.745788e+08</td>\n",
              "      <td>110.000000</td>\n",
              "      <td>6.500000</td>\n",
              "      <td>1158.000000</td>\n",
              "      <td>1.253626e+08</td>\n",
              "    </tr>\n",
              "    <tr>\n",
              "      <th>75%</th>\n",
              "      <td>8.000000e+07</td>\n",
              "      <td>15.693102</td>\n",
              "      <td>3.070095e+08</td>\n",
              "      <td>126.000000</td>\n",
              "      <td>7.100000</td>\n",
              "      <td>2308.000000</td>\n",
              "      <td>2.303631e+08</td>\n",
              "    </tr>\n",
              "    <tr>\n",
              "      <th>max</th>\n",
              "      <td>3.800000e+08</td>\n",
              "      <td>547.488298</td>\n",
              "      <td>2.787965e+09</td>\n",
              "      <td>238.000000</td>\n",
              "      <td>9.100000</td>\n",
              "      <td>14075.000000</td>\n",
              "      <td>2.550965e+09</td>\n",
              "    </tr>\n",
              "  </tbody>\n",
              "</table>\n",
              "</div>"
            ],
            "text/plain": [
              "             budget   popularity  ...    vote_count        profit\n",
              "count  1.543000e+03  1543.000000  ...   1543.000000  1.543000e+03\n",
              "mean   5.998527e+07    15.459826  ...   1770.085548  1.959285e+08\n",
              "std    5.422163e+07    23.525478  ...   1813.188649  2.018986e+08\n",
              "min    1.130000e+02     0.452934  ...      2.000000  5.002009e+07\n",
              "25%    2.000000e+07     8.969442  ...    550.500000  7.645018e+07\n",
              "50%    4.000000e+07    11.746053  ...   1158.000000  1.253626e+08\n",
              "75%    8.000000e+07    15.693102  ...   2308.000000  2.303631e+08\n",
              "max    3.800000e+08   547.488298  ...  14075.000000  2.550965e+09\n",
              "\n",
              "[8 rows x 7 columns]"
            ]
          },
          "metadata": {
            "tags": []
          },
          "execution_count": 42
        }
      ]
    },
    {
      "cell_type": "code",
      "metadata": {
        "id": "YTwcHfRZA_nH",
        "outputId": "85faaa5e-19ed-4ef6-ec42-0fc41934ce4d",
        "colab": {
          "base_uri": "https://localhost:8080/"
        }
      },
      "source": [
        "rows,cols=data.shape\n",
        "print(\"Rows:\",rows,\"Cols:\",cols)"
      ],
      "execution_count": 43,
      "outputs": [
        {
          "output_type": "stream",
          "text": [
            "Rows: 1543 Cols: 15\n"
          ],
          "name": "stdout"
        }
      ]
    },
    {
      "cell_type": "code",
      "metadata": {
        "id": "sIcL7lgYBHYA",
        "outputId": "0649a421-0e48-4a94-af4e-35a14870878e",
        "colab": {
          "base_uri": "https://localhost:8080/"
        }
      },
      "source": [
        "per=(data.isnull().sum().sum()/rows)*100\n",
        "print(\"Percentage of missing values:\",round(per,3),\"%\")"
      ],
      "execution_count": 44,
      "outputs": [
        {
          "output_type": "stream",
          "text": [
            "Percentage of missing values: 0.0 %\n"
          ],
          "name": "stdout"
        }
      ]
    },
    {
      "cell_type": "markdown",
      "metadata": {
        "id": "Rm03oRUzDBRh"
      },
      "source": [
        "### **Random Sample of 10 datapoints from the population**"
      ]
    },
    {
      "cell_type": "code",
      "metadata": {
        "id": "Lykz4PlKDHFn",
        "outputId": "008ccc0f-20fe-4517-c708-52184f4d88c9",
        "colab": {
          "base_uri": "https://localhost:8080/"
        }
      },
      "source": [
        "sample=data.sample(30)\n",
        "print(\"Sample Shape:\",sample.shape)"
      ],
      "execution_count": 45,
      "outputs": [
        {
          "output_type": "stream",
          "text": [
            "Sample Shape: (30, 15)\n"
          ],
          "name": "stdout"
        }
      ]
    },
    {
      "cell_type": "markdown",
      "metadata": {
        "id": "VpJx_soNB0RM"
      },
      "source": [
        "### **Hypothesis 1**\n",
        "\n",
        "* H0: Average Budget of a profitable movie =  60 Million (approx)\n",
        "* Ha: Average Budget of a profitable movie != 60 Million\n",
        "* Thus, a two-tailed test is required."
      ]
    },
    {
      "cell_type": "code",
      "metadata": {
        "id": "0aJFAlhQC6PU",
        "outputId": "70bd24e2-6092-4fa7-83e5-1cb89c4a0279",
        "colab": {
          "base_uri": "https://localhost:8080/"
        }
      },
      "source": [
        "#Extract Budget from Sample\n",
        "budget=sample.budget.values\n",
        "print(\"Budget:\",*budget)"
      ],
      "execution_count": 46,
      "outputs": [
        {
          "output_type": "stream",
          "text": [
            "Budget: 40000000 40000000 15000000 85000000 175000000 100000000 250000000 180000000 4000000 80000000 113 40000000 14000000 5000000 16000000 2500000 145000000 38000000 4800000 85000000 42000000 60000000 40000000 8000000 105000000 78000000 27000000 50000000 16000000 125000000\n"
          ],
          "name": "stdout"
        }
      ]
    },
    {
      "cell_type": "code",
      "metadata": {
        "id": "05uCGynCDdcG",
        "outputId": "e05a198d-6af3-4c2c-9e73-ab753eb9d1e5",
        "colab": {
          "base_uri": "https://localhost:8080/"
        }
      },
      "source": [
        "#Initialize Variables\n",
        "n=len(budget)             # Number of DataPoints\n",
        "mu=np.mean(budget)        # Sample Mean\n",
        "xbar=np.mean(data.budget) # Population Mean\n",
        "sigma=np.std(data.budget) # Population Standard Deviation\n",
        "alpha=0.05                # Level of Significance\n",
        "print(n,mu,xbar,sigma,alpha)"
      ],
      "execution_count": 47,
      "outputs": [
        {
          "output_type": "stream",
          "text": [
            "30 62343337.1 59985274.628645495 54204052.9925719 0.05\n"
          ],
          "name": "stdout"
        }
      ]
    },
    {
      "cell_type": "markdown",
      "metadata": {
        "id": "BAfGeefOHGLo"
      },
      "source": [
        "* n=10\n",
        "* mu=62400000.0\n",
        "* xbar=59985274.628645495\n",
        "* sigma=54204052.9925719\n",
        "* alpha=0.05"
      ]
    },
    {
      "cell_type": "code",
      "metadata": {
        "id": "PYueNzi_Fwuc",
        "outputId": "ea2e453c-1af7-4560-eb56-b752aa27624e",
        "colab": {
          "base_uri": "https://localhost:8080/"
        }
      },
      "source": [
        "#Z and Z Critical Value \n",
        "Z=(xbar-mu)/(sigma/n**0.5)\n",
        "print(\"Z value:\",Z)\n",
        "\n",
        "Z_Crit=abs(st.norm.ppf(alpha/2))\n",
        "left=-1*Z_Crit\n",
        "right=Z_Crit\n",
        "print(\"Z Critical:\",Z_Crit)\n",
        "print(\"Left:\",left,\"Right:\",right)"
      ],
      "execution_count": 48,
      "outputs": [
        {
          "output_type": "stream",
          "text": [
            "Z value: -0.23827812428421885\n",
            "Z Critical: 1.9599639845400545\n",
            "Left: -1.9599639845400545 Right: 1.9599639845400545\n"
          ],
          "name": "stdout"
        }
      ]
    },
    {
      "cell_type": "code",
      "metadata": {
        "id": "bV8HBArrM8IZ",
        "outputId": "b0c26c09-2a1a-4d62-d7f2-6122232c2234",
        "colab": {
          "base_uri": "https://localhost:8080/"
        }
      },
      "source": [
        "#Inferences\n",
        "rejection=False\n",
        "if(Z>right or Z<left): \n",
        "  rejection=True\n",
        "else:\n",
        "  rejection=False\n",
        "print(\"Rejection:\",rejection)"
      ],
      "execution_count": 49,
      "outputs": [
        {
          "output_type": "stream",
          "text": [
            "Rejection: False\n"
          ],
          "name": "stdout"
        }
      ]
    },
    {
      "cell_type": "markdown",
      "metadata": {
        "id": "Hymk6ycDLMd7"
      },
      "source": [
        "It fails to reject null hypothesis. Hence, there is enough evidence to claim that **Average Budget of a profitable movie =  60 Million**."
      ]
    },
    {
      "cell_type": "markdown",
      "metadata": {
        "id": "dopWKBFwNYRM"
      },
      "source": [
        "### **Machine Learning Model: Prediction of Profit**"
      ]
    },
    {
      "cell_type": "code",
      "metadata": {
        "id": "8Yrj7ZvENI2S",
        "outputId": "6fbb7e49-277f-4d01-d429-034d3e94466e",
        "colab": {
          "base_uri": "https://localhost:8080/",
          "height": 268
        }
      },
      "source": [
        "df=pd.read_csv('/content/clean_data_movies.csv')\n",
        "df.drop('Unnamed: 0',axis=1,inplace=True)\n",
        "df.head(3)"
      ],
      "execution_count": 50,
      "outputs": [
        {
          "output_type": "execute_result",
          "data": {
            "text/html": [
              "<div>\n",
              "<style scoped>\n",
              "    .dataframe tbody tr th:only-of-type {\n",
              "        vertical-align: middle;\n",
              "    }\n",
              "\n",
              "    .dataframe tbody tr th {\n",
              "        vertical-align: top;\n",
              "    }\n",
              "\n",
              "    .dataframe thead th {\n",
              "        text-align: right;\n",
              "    }\n",
              "</style>\n",
              "<table border=\"1\" class=\"dataframe\">\n",
              "  <thead>\n",
              "    <tr style=\"text-align: right;\">\n",
              "      <th></th>\n",
              "      <th>adult</th>\n",
              "      <th>budget</th>\n",
              "      <th>genres</th>\n",
              "      <th>popularity</th>\n",
              "      <th>poster_path</th>\n",
              "      <th>production_countries</th>\n",
              "      <th>release_date</th>\n",
              "      <th>revenue</th>\n",
              "      <th>runtime</th>\n",
              "      <th>spoken_languages</th>\n",
              "      <th>title</th>\n",
              "      <th>video</th>\n",
              "      <th>vote_average</th>\n",
              "      <th>vote_count</th>\n",
              "      <th>profit</th>\n",
              "    </tr>\n",
              "  </thead>\n",
              "  <tbody>\n",
              "    <tr>\n",
              "      <th>0</th>\n",
              "      <td>False</td>\n",
              "      <td>30000000</td>\n",
              "      <td>['Animation', 'Comedy', 'Family']</td>\n",
              "      <td>21.946943</td>\n",
              "      <td>/rhIRbceoE9lR4veEXuwCC2wARtG.jpg</td>\n",
              "      <td>['United States of America']</td>\n",
              "      <td>1995-10-30</td>\n",
              "      <td>373554033</td>\n",
              "      <td>81.0</td>\n",
              "      <td>['English']</td>\n",
              "      <td>Toy Story</td>\n",
              "      <td>False</td>\n",
              "      <td>7.7</td>\n",
              "      <td>5415.0</td>\n",
              "      <td>343554033</td>\n",
              "    </tr>\n",
              "    <tr>\n",
              "      <th>1</th>\n",
              "      <td>False</td>\n",
              "      <td>65000000</td>\n",
              "      <td>['Adventure', 'Fantasy', 'Family']</td>\n",
              "      <td>17.015539</td>\n",
              "      <td>/vzmL6fP7aPKNKPRTFnZmiUfciyV.jpg</td>\n",
              "      <td>['United States of America']</td>\n",
              "      <td>1995-12-15</td>\n",
              "      <td>262797249</td>\n",
              "      <td>104.0</td>\n",
              "      <td>['English', 'Français']</td>\n",
              "      <td>Jumanji</td>\n",
              "      <td>False</td>\n",
              "      <td>6.9</td>\n",
              "      <td>2413.0</td>\n",
              "      <td>197797249</td>\n",
              "    </tr>\n",
              "    <tr>\n",
              "      <th>2</th>\n",
              "      <td>False</td>\n",
              "      <td>16000000</td>\n",
              "      <td>['Comedy', 'Drama', 'Romance']</td>\n",
              "      <td>3.859495</td>\n",
              "      <td>/16XOMpEaLWkrcPqSQqhTmeJuqQl.jpg</td>\n",
              "      <td>['United States of America']</td>\n",
              "      <td>1995-12-22</td>\n",
              "      <td>81452156</td>\n",
              "      <td>127.0</td>\n",
              "      <td>['English']</td>\n",
              "      <td>Waiting to Exhale</td>\n",
              "      <td>False</td>\n",
              "      <td>6.1</td>\n",
              "      <td>34.0</td>\n",
              "      <td>65452156</td>\n",
              "    </tr>\n",
              "  </tbody>\n",
              "</table>\n",
              "</div>"
            ],
            "text/plain": [
              "   adult    budget  ... vote_count     profit\n",
              "0  False  30000000  ...     5415.0  343554033\n",
              "1  False  65000000  ...     2413.0  197797249\n",
              "2  False  16000000  ...       34.0   65452156\n",
              "\n",
              "[3 rows x 15 columns]"
            ]
          },
          "metadata": {
            "tags": []
          },
          "execution_count": 50
        }
      ]
    },
    {
      "cell_type": "markdown",
      "metadata": {
        "id": "l60E2eauNswE"
      },
      "source": [
        "* Adult, Video needs encoding\n",
        "* Genres, Poster Path, Release Date, Spoken Languages, Title needs to be handled.\n",
        "* Data Normalization is required."
      ]
    },
    {
      "cell_type": "code",
      "metadata": {
        "id": "3AfeY2FHNk7a",
        "outputId": "b1c14014-3e40-41f8-b4e8-841bbda2c749",
        "colab": {
          "base_uri": "https://localhost:8080/"
        }
      },
      "source": [
        "encoder=LabelEncoder()\n",
        "print(\"Previous:\",df['adult'].unique())\n",
        "df['adult']=encoder.fit_transform(df['adult'])\n",
        "print(\"Now:\",df['adult'].unique())\n",
        "\n",
        "encoder=LabelEncoder()\n",
        "print(\"Previous:\",df['video'].unique())\n",
        "df['video']=encoder.fit_transform(df['video'])\n",
        "print(\"Now:\",df['video'].unique())"
      ],
      "execution_count": 51,
      "outputs": [
        {
          "output_type": "stream",
          "text": [
            "Previous: [False]\n",
            "Now: [0]\n",
            "Previous: [False]\n",
            "Now: [0]\n"
          ],
          "name": "stdout"
        }
      ]
    },
    {
      "cell_type": "code",
      "metadata": {
        "id": "2iuBF7IQPA9j",
        "outputId": "2d80e9e2-8ee9-46fe-f973-907e2b813a08",
        "colab": {
          "base_uri": "https://localhost:8080/",
          "height": 143
        }
      },
      "source": [
        "cols=['genres','poster_path','production_countries','release_date','spoken_languages','title']\n",
        "df.drop(cols,inplace=True,axis=1)\n",
        "df.head(3)"
      ],
      "execution_count": 52,
      "outputs": [
        {
          "output_type": "execute_result",
          "data": {
            "text/html": [
              "<div>\n",
              "<style scoped>\n",
              "    .dataframe tbody tr th:only-of-type {\n",
              "        vertical-align: middle;\n",
              "    }\n",
              "\n",
              "    .dataframe tbody tr th {\n",
              "        vertical-align: top;\n",
              "    }\n",
              "\n",
              "    .dataframe thead th {\n",
              "        text-align: right;\n",
              "    }\n",
              "</style>\n",
              "<table border=\"1\" class=\"dataframe\">\n",
              "  <thead>\n",
              "    <tr style=\"text-align: right;\">\n",
              "      <th></th>\n",
              "      <th>adult</th>\n",
              "      <th>budget</th>\n",
              "      <th>popularity</th>\n",
              "      <th>revenue</th>\n",
              "      <th>runtime</th>\n",
              "      <th>video</th>\n",
              "      <th>vote_average</th>\n",
              "      <th>vote_count</th>\n",
              "      <th>profit</th>\n",
              "    </tr>\n",
              "  </thead>\n",
              "  <tbody>\n",
              "    <tr>\n",
              "      <th>0</th>\n",
              "      <td>0</td>\n",
              "      <td>30000000</td>\n",
              "      <td>21.946943</td>\n",
              "      <td>373554033</td>\n",
              "      <td>81.0</td>\n",
              "      <td>0</td>\n",
              "      <td>7.7</td>\n",
              "      <td>5415.0</td>\n",
              "      <td>343554033</td>\n",
              "    </tr>\n",
              "    <tr>\n",
              "      <th>1</th>\n",
              "      <td>0</td>\n",
              "      <td>65000000</td>\n",
              "      <td>17.015539</td>\n",
              "      <td>262797249</td>\n",
              "      <td>104.0</td>\n",
              "      <td>0</td>\n",
              "      <td>6.9</td>\n",
              "      <td>2413.0</td>\n",
              "      <td>197797249</td>\n",
              "    </tr>\n",
              "    <tr>\n",
              "      <th>2</th>\n",
              "      <td>0</td>\n",
              "      <td>16000000</td>\n",
              "      <td>3.859495</td>\n",
              "      <td>81452156</td>\n",
              "      <td>127.0</td>\n",
              "      <td>0</td>\n",
              "      <td>6.1</td>\n",
              "      <td>34.0</td>\n",
              "      <td>65452156</td>\n",
              "    </tr>\n",
              "  </tbody>\n",
              "</table>\n",
              "</div>"
            ],
            "text/plain": [
              "   adult    budget  popularity  ...  vote_average  vote_count     profit\n",
              "0      0  30000000   21.946943  ...           7.7      5415.0  343554033\n",
              "1      0  65000000   17.015539  ...           6.9      2413.0  197797249\n",
              "2      0  16000000    3.859495  ...           6.1        34.0   65452156\n",
              "\n",
              "[3 rows x 9 columns]"
            ]
          },
          "metadata": {
            "tags": []
          },
          "execution_count": 52
        }
      ]
    },
    {
      "cell_type": "code",
      "metadata": {
        "id": "yzDYaEvdP_gf"
      },
      "source": [
        "#X and Y split\n",
        "X=df.iloc[:,:-1]\n",
        "Y=df.iloc[:,-1]"
      ],
      "execution_count": 53,
      "outputs": []
    },
    {
      "cell_type": "code",
      "metadata": {
        "id": "qJXSSSEFQMW-"
      },
      "source": [
        "#Train Test Split\n",
        "X_train,X_test,Y_train,Y_test=train_test_split(X,Y,test_size=0.25,random_state=1)"
      ],
      "execution_count": 54,
      "outputs": []
    },
    {
      "cell_type": "code",
      "metadata": {
        "id": "IdgmE5o3Pb80"
      },
      "source": [
        "#Data Normalization\n",
        "ss=StandardScaler()\n",
        "X_train=ss.fit_transform(X_train)\n",
        "X_test=ss.transform(X_test)"
      ],
      "execution_count": 55,
      "outputs": []
    },
    {
      "cell_type": "code",
      "metadata": {
        "id": "m8fXZ8o2Qn0v"
      },
      "source": [
        "#Linear Regression\n",
        "regressor=LinearRegression()\n",
        "regressor=regressor.fit(X_train,Y_train)\n",
        "Y_pred=regressor.predict(X_test)"
      ],
      "execution_count": 56,
      "outputs": []
    },
    {
      "cell_type": "code",
      "metadata": {
        "id": "J7z9mhp_RR2k",
        "outputId": "43199106-7128-4ef7-9b30-0da712fa5ac5",
        "colab": {
          "base_uri": "https://localhost:8080/"
        }
      },
      "source": [
        "#Metrics Report\n",
        "print(\"RMSE:\",round(metrics.mean_squared_error(Y_test,Y_pred)**0.5,10))\n",
        "print(\"R2:\",metrics.r2_score(Y_test,Y_pred))"
      ],
      "execution_count": 57,
      "outputs": [
        {
          "output_type": "stream",
          "text": [
            "RMSE: 7.92e-08\n",
            "R2: 1.0\n"
          ],
          "name": "stdout"
        }
      ]
    }
  ]
}